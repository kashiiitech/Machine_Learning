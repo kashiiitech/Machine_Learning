{
  "cells": [
    {
      "cell_type": "markdown",
      "metadata": {
        "id": "T5q40_kjWmq_"
      },
      "source": [
        "Libraries required"
      ]
    },
    {
      "cell_type": "code",
      "execution_count": null,
      "metadata": {
        "id": "TZCFAxfJQgLY"
      },
      "outputs": [],
      "source": [
        "# !pip install pycryptodome    # first install this library"
      ]
    },
    {
      "cell_type": "markdown",
      "metadata": {
        "id": "fCgINgyGWtSx"
      },
      "source": [
        "**Importing libraries**"
      ]
    },
    {
      "cell_type": "code",
      "execution_count": null,
      "metadata": {
        "id": "wXJ19WmQQsuX"
      },
      "outputs": [],
      "source": [
        "import time\n",
        "from Crypto.Cipher import DES, AES, PKCS1_OAEP\n",
        "from Crypto.PublicKey import RSA\n",
        "from Crypto.Util import Padding"
      ]
    },
    {
      "cell_type": "code",
      "execution_count": null,
      "metadata": {
        "id": "d2EPfVO2YNvq"
      },
      "outputs": [],
      "source": [
        "file_path = '/content/drive/MyDrive/Colab Notebooks/input_files/50mb.txt'                               # try 10mb.txt, 50mb.txt\n",
        "output_path = '/content/drive/MyDrive/Colab Notebooks/output_files/rsa_encrypted.txt'\n",
        "output_decrypted = '/content/drive/MyDrive/Colab Notebooks/output_files/rsa_decrypted.txt'\n",
        "\n",
        "# files for des\n",
        "des_enc = '/content/drive/MyDrive/Colab Notebooks/output_files/des_encrypted.txt'\n",
        "des_dec = '/content/drive/MyDrive/Colab Notebooks/output_files/des_decrypted.txt'\n",
        "\n",
        "# files for aes\n",
        "aes_enc = '/content/drive/MyDrive/Colab Notebooks/output_files/aes_encrypted.txt'\n",
        "aes_dec = '/content/drive/MyDrive/Colab Notebooks/output_files/aes_decrypted.txt'\n",
        "\n",
        "# storing timing\n",
        "algo_time = '/content/drive/MyDrive/Colab Notebooks/algo_times/50mb_timing.txt'\n",
        "\n",
        "def rsaKeyGenerator(key_size):\n",
        "    key = RSA.generate(key_size)\n",
        "    public_key = key.publickey()\n",
        "    return public_key, key\n",
        "\n",
        "def rsaEncryptionF(file_path, public_key, output_file_path):\n",
        "    cipher_rsa = PKCS1_OAEP.new(public_key)\n",
        "\n",
        "    with open(file_path, \"rb\") as input_file, open(output_file_path, \"wb\") as output_file:\n",
        "        while True:\n",
        "            data = input_file.read(128)\n",
        "            if not data:\n",
        "                break\n",
        "\n",
        "            encrypted_data = cipher_rsa.encrypt(data)\n",
        "            output_file.write(encrypted_data)\n",
        "\n",
        "def rsaDecryptionF(file_path, private_key, output_file_path):\n",
        "    cipher_rsa = PKCS1_OAEP.new(private_key)\n",
        "\n",
        "    with open(file_path, \"rb\") as input_file, open(output_file_path, \"wb\") as output_file:\n",
        "        while True:\n",
        "            encrypted_data = input_file.read(private_key.size_in_bytes())\n",
        "            if not encrypted_data:\n",
        "                break\n",
        "\n",
        "            decrypted_data = cipher_rsa.decrypt(encrypted_data)\n",
        "            output_file.write(decrypted_data)\n",
        "\n",
        "def desEncryptionF(data, key):\n",
        "    cipher = DES.new(key, DES.MODE_ECB)\n",
        "    encrypted_data = cipher.encrypt(Padding.pad(data, 8))\n",
        "    decrypted_data = Padding.unpad(cipher.decrypt(encrypted_data), 8)\n",
        "    return encrypted_data, decrypted_data\n",
        "\n",
        "def aesEncryptionF(data, key):\n",
        "    iv = b'1234567890120190'\n",
        "    encrypt_cipher = AES.new(key, AES.MODE_CBC, iv)\n",
        "    encrypted_data = encrypt_cipher.encrypt(Padding.pad(data, 16))\n",
        "\n",
        "    decrypt_cipher = AES.new(key, AES.MODE_CBC, iv)\n",
        "    decrypted_data = Padding.unpad(decrypt_cipher.decrypt(encrypted_data), 16)\n",
        "\n",
        "    return encrypted_data, decrypted_data"
      ]
    },
    {
      "cell_type": "code",
      "execution_count": null,
      "metadata": {
        "id": "YdrhKHrzP5Kk"
      },
      "outputs": [],
      "source": [
        "with open(file_path, 'rb') as file:\n",
        "    data = file.read()\n",
        "\n",
        "start_time = time.time()\n",
        "des_key = b'8byt0190'\n",
        "des_encrypted, des_decrypted = desEncryptionF(data, des_key)\n",
        "des_time = time.time() - start_time\n",
        "\n",
        "start_time = time.time()\n",
        "aes_key = b'16bytekey12340190'\n",
        "aes_encrypted, aes_decrypted = aesEncryptionF(data, aes_key)\n",
        "aes_time = time.time() - start_time\n",
        "\n",
        "\n",
        "with open(des_enc, 'wb') as des_encrypted_file:\n",
        "    des_encrypted_file.write(des_encrypted)\n",
        "with open(des_dec, 'wb') as des_decrypted_file:\n",
        "    des_decrypted_file.write(des_decrypted)\n",
        "\n",
        "with open(aes_enc, 'wb') as aes_encrypted_file:\n",
        "    aes_encrypted_file.write(aes_encrypted)\n",
        "with open(aes_dec, 'wb') as aes_decrypted_file:\n",
        "    aes_decrypted_file.write(aes_decrypted)\n",
        "\n",
        "with open(algo_time, 'w') as timing_file:\n",
        "    timing_file.write(f\"DES Time: {des_time:.6f} seconds\\n\")\n",
        "    timing_file.write(f\"AES Time: {aes_time:.6f} seconds\\n\")\n",
        "\n",
        "start_time = time.time()\n",
        "\n",
        "\n",
        "public_key, private_key = rsaKeyGenerator(2048)\n",
        "\n",
        "output_encrypted = output_path\n",
        "output_decrypted = output_decrypted\n",
        "\n",
        "rsaEncryptionF(file_path, public_key, output_encrypted)\n",
        "\n",
        "rsaDecryptionF(output_encrypted, private_key, output_decrypted)\n",
        "\n",
        "\n",
        "\n",
        "rsa_time = time.time() - start_time\n",
        "\n",
        "with open(algo_time, 'a') as timing_file:\n",
        "    timing_file.write(f\"RSA Time: {rsa_time:.6f} seconds\\n\")"
      ]
    }
  ],
  "metadata": {
    "colab": {
      "provenance": []
    },
    "kernelspec": {
      "display_name": "Python 3",
      "name": "python3"
    },
    "language_info": {
      "name": "python"
    }
  },
  "nbformat": 4,
  "nbformat_minor": 0
}
